{
 "cells": [
  {
   "cell_type": "code",
   "execution_count": null,
   "metadata": {},
   "outputs": [],
   "source": [
    "import pandas as pd\n",
    "import numpy as np\n",
    "import os\n",
    "import openpyxl\n",
    "import matplotlib.pyplot as plt\n",
    "from time import sleep"
   ]
  },
  {
   "cell_type": "code",
   "execution_count": null,
   "metadata": {},
   "outputs": [],
   "source": [
    "#Base de otimização de rotas\n",
    "\n",
    "otimizacao_rotas = pd.read_excel(\"Otimização de rotas.xlsx\",sheet_name='Trajeto Geral (Equ x Base Faz)', skiprows=6).drop(['Unnamed: 0','Unnamed: 1'],axis=1)"
   ]
  },
  {
   "cell_type": "code",
   "execution_count": null,
   "metadata": {},
   "outputs": [],
   "source": [
    "#Capacidade por equipe\n",
    "capacidade_equipe = pd.read_excel(\"cadastro equipes e demandas.xlsx\", sheet_name='Capacidade por equipe')"
   ]
  },
  {
   "cell_type": "code",
   "execution_count": null,
   "metadata": {},
   "outputs": [],
   "source": [
    "#Base de demandas\n",
    "\n",
    "demanda = pd.read_excel('cadastro equipes e demandas.xlsx', sheet_name='Demanda por fazenda', dtype={'ID Fazenda': 'object', 'Mês de Demanda': 'datetime64[ns]'})"
   ]
  },
  {
   "cell_type": "code",
   "execution_count": null,
   "metadata": {},
   "outputs": [],
   "source": [
    "#Função de máscara\n",
    "\n",
    "def mascara(df, coluna,n_digitos):\n",
    "    df[coluna] = df[coluna].astype(str)\n",
    "    df[coluna] = str(\"000\") + df[coluna]\n",
    "    df[coluna] = df[coluna].astype(str).str[-n_digitos:] \n",
    "    return df"
   ]
  },
  {
   "cell_type": "code",
   "execution_count": null,
   "metadata": {},
   "outputs": [],
   "source": [
    "#demanda \n",
    "demanda = mascara(demanda,'ID Fazenda', 4)\n",
    "\n",
    "demanda.sample(3)#tail(3)#.head(5)"
   ]
  },
  {
   "cell_type": "code",
   "execution_count": null,
   "metadata": {},
   "outputs": [],
   "source": [
    "otimizacao_rotas"
   ]
  },
  {
   "cell_type": "code",
   "execution_count": null,
   "metadata": {},
   "outputs": [],
   "source": [
    "#Data frame de equipes e siglas\n",
    "equipes = [ i for  i in otimizacao_rotas['COD'].str[7:].unique()]\n",
    "equipes_s = [ i for  i in otimizacao_rotas['Equipe'].unique()]\n",
    "\n",
    "\n",
    "equipes_base = pd.DataFrame(\n",
    "    { 'Equipe': equipes,\n",
    "     'Equipe sigla' : equipes_s\n",
    "    }\n",
    ")\n",
    "\n",
    "equipes_base.head(len(equipes))"
   ]
  },
  {
   "cell_type": "code",
   "execution_count": null,
   "metadata": {},
   "outputs": [],
   "source": [
    "#Capacidade da equipe \n",
    "\n",
    "capacidade_equipe['Gordura'] = 0.05\n",
    "\n",
    "capacidade_equipe['Capacidade ajustada'] = (capacidade_equipe['Gordura'] * capacidade_equipe['Capacidade']) + capacidade_equipe['Capacidade']\n",
    "\n",
    "#capacidade_equipe['Capacidade minima'] = capacidade_equipe['Capacidade'] - (capacidade_equipe['Gordura'] * capacidade_equipe['Capacidade'])\n",
    "\n",
    "\n",
    "capacidade_equipe = capacidade_equipe.merge(equipes_base, on='Equipe', how='left')\n",
    "\n",
    "capacidade_equipe.head(6)"
   ]
  },
  {
   "cell_type": "code",
   "execution_count": null,
   "metadata": {},
   "outputs": [],
   "source": [
    "#Otimização de rotas\n",
    "\n",
    "otimizacao_rotas = mascara(otimizacao_rotas,'ID Fazenda',4)\n",
    "\n",
    "otimizacao_rotas"
   ]
  },
  {
   "cell_type": "code",
   "execution_count": null,
   "metadata": {},
   "outputs": [],
   "source": [
    "#Construindo otimização de rotas\n",
    "\n",
    "#trazendo base de demandas\n",
    "otimizacao_rotas = otimizacao_rotas.merge(demanda[['ID Fazenda','Área Avaliada', 'Mês avaliação']], left_on='ID Fazenda', right_on='ID Fazenda', how='left')\n",
    "\n",
    "#Ordenando a base\n",
    "otimizacao_rotas = otimizacao_rotas.sort_values(['ID Fazenda','Trajeto (Km)'],ascending=[True,True])\n",
    "\n",
    "#Capacidade por equipe\n",
    "otimizacao_rotas = otimizacao_rotas.merge(capacidade_equipe[['Mês Operacional', 'Capacidade', 'Capacidade ajustada', 'Equipe sigla']],left_on=['Equipe','Mês avaliação'], right_on=['Equipe sigla','Mês Operacional'], how='left')\n",
    "\n",
    "otimizacao_rotas= otimizacao_rotas.rename({\n",
    "    'Mês Operacional':'Mês operacional equipe',\n",
    "    'Mês avaliação': 'Mês demanda'\n",
    "}, axis=1)\n",
    "\n",
    "\n",
    "otimizacao_rotas = otimizacao_rotas.drop(['Equipe sigla','Cidade origem'],axis=1)\n",
    "\n",
    "#Filtro apenas para testes\n",
    "#otimizacao_rotas = otimizacao_rotas[otimizacao_rotas['ID Fazenda'] == '0001']\n",
    "\n",
    "otimizacao_rotas = otimizacao_rotas[pd.notna(otimizacao_rotas['Mês operacional equipe'])]\n",
    "\n"
   ]
  },
  {
   "cell_type": "code",
   "execution_count": null,
   "metadata": {},
   "outputs": [],
   "source": [
    "#Resetando o índice para utilizá-lo no i.loc\n",
    "otimizacao_rotas.reset_index(drop=True, inplace=True)\n",
    "\n",
    "otimizacao_rotas['Equipe mais próxima'] = 0\n",
    "ordem = 0\n",
    "\n",
    "for i in range(1, len(otimizacao_rotas)):\n",
    "    if otimizacao_rotas.loc[i, 'ID Fazenda'] == otimizacao_rotas.loc[i-1, 'ID Fazenda']:\n",
    "        ordem += 1\n",
    "    else:\n",
    "        ordem = 0\n",
    "    otimizacao_rotas.loc[i, 'Equipe mais próxima'] = ordem"
   ]
  },
  {
   "cell_type": "code",
   "execution_count": null,
   "metadata": {},
   "outputs": [],
   "source": [
    "otimizacao_rotas"
   ]
  },
  {
   "cell_type": "code",
   "execution_count": null,
   "metadata": {},
   "outputs": [],
   "source": [
    "#Criar um print para ir rodando quais são as equipes mais próximas e qual a distância. Pode ser um dicionário. mas deve ser printado para mostrar a funcionalidade da ferramenta"
   ]
  },
  {
   "cell_type": "code",
   "execution_count": null,
   "metadata": {},
   "outputs": [],
   "source": [
    "#Criar uma lógica para criar um dicionário que vai aumentando a demanda conforme é atribuído fazendas para ela de acordo com a coluna equipe mais próxima\n",
    "\n",
    "#A fazenda deve sempre ser atribuída no momento que ela for mais próxima da equipe, a capacidade só pode ser olhada quando a equipe mais próxima for maior que zero\n",
    "\n",
    "#Tabelinha de demanda da equipe com a demanda mês atual dela\n"
   ]
  },
  {
   "cell_type": "code",
   "execution_count": null,
   "metadata": {},
   "outputs": [],
   "source": [
    "#otimizacao_rotas = otimizacao_rotas[otimizacao_rotas['ID Fazenda'] == '0001'] \n",
    "\n",
    "#otimizacao_rotas"
   ]
  },
  {
   "cell_type": "code",
   "execution_count": null,
   "metadata": {},
   "outputs": [],
   "source": [
    "#Plano A\n",
    "\n",
    "#Sempre vai me trazer qual é a equipe mais próxima\n",
    "\n",
    "def definir_equipe(row):\n",
    "    if (row['Equipe mais próxima'] == 0 ) & (row['Mês demanda'] == row['Mês operacional equipe']):\n",
    "        return row['Equipe']\n",
    "    else:\n",
    "        return np.nan\n",
    "\n",
    "otimizacao_rotas['Plano A'] = otimizacao_rotas.apply(definir_equipe,axis=1)\n"
   ]
  },
  {
   "cell_type": "code",
   "execution_count": null,
   "metadata": {},
   "outputs": [],
   "source": [
    "otimizacao_rotas"
   ]
  },
  {
   "cell_type": "code",
   "execution_count": null,
   "metadata": {},
   "outputs": [],
   "source": [
    "#Agora com o plano A definido, vamos criar uma base para ir somando a demanda da equipe por programação\n",
    "\n",
    "#Limitador de quilometragem \n",
    "\n",
    "#A Equipe pode andar quantos quilometros por mês? \n",
    "#Do mesmo jeito que tenho capacidade máxima, devo ter distância máxima para percorrer\n",
    "\n",
    "\n",
    "\n",
    "carteira_equipe = {}\n",
    "\n",
    "\n",
    "def adiciona_equipe(informacoes_equipe, dicionario, demanda_inicial, km_inicial):\n",
    "    for _, v in informacoes_equipe.iterrows():\n",
    "        dicionario[v['Equipe sigla'] + v['Mês Operacional'].strftime('%m-%y')] = {\n",
    "            'equipe': v['Equipe sigla'],\n",
    "            'mes': pd.to_datetime(v['Mês Operacional']),\n",
    "            'demanda': demanda_inicial,\n",
    "            'capacidade maxima': v['Capacidade ajustada'],\n",
    "            'distancia maxima' : v['Distancia'],#\n",
    "            #'capacidade minima': v['Capacidade minima']\n",
    "            'km': km_inicial\n",
    "        }\n",
    "\n",
    "# Adicionar equipes ao dicionário\n",
    "adiciona_equipe(capacidade_equipe, carteira_equipe, 0,0)\n"
   ]
  },
  {
   "cell_type": "code",
   "execution_count": null,
   "metadata": {},
   "outputs": [],
   "source": [
    "#Para iterar sobre um dicionário é necessário utilizar o items, diferente de um data frame que podemos utilizar o iterrows também\n",
    "#for chave, value in carteira_equipe.items():\n",
    "#    print(value)"
   ]
  },
  {
   "cell_type": "code",
   "execution_count": null,
   "metadata": {},
   "outputs": [],
   "source": [
    "otimizacao_rotas.head(5)"
   ]
  },
  {
   "cell_type": "code",
   "execution_count": null,
   "metadata": {},
   "outputs": [],
   "source": [
    "#Construir função para ir aumentando a carteira de áreas da equipe\n",
    "\n",
    "\n",
    "def credito_demanda(carteira_df,banco_areas):\n",
    "\n",
    "    banco_areas['equipe atribuída'] = None\n",
    "    \n",
    "    for chave_banco, valor_banco in banco_areas.iterrows():\n",
    "\n",
    "    \n",
    "        for chave_carteira, valor_carteira in carteira_df.items():\n",
    "\n",
    "            #Ao invez de definir o plano A, posso utilizar o idxmin() e pegar o mínimo para o plano, e caso a equipe não tenha mais capacidade pode ser que ele não entre na demanda\n",
    "                #Tentar evoluir na ideia, pode ser a solução para os problemas futuros\n",
    "           \n",
    "            if (valor_carteira['equipe'] == valor_banco['Plano A']) & (pd.to_datetime(valor_carteira['mes']) == pd.to_datetime(valor_banco['Mês demanda'])):\n",
    "      \n",
    "                \n",
    "            #Define a equipe para a equipe mais próxima que é o Plano A\n",
    "                if  ((valor_banco['Área Avaliada'] + valor_carteira['demanda']) < valor_carteira['capacidade maxima']) & ((valor_banco['Trajeto (km)'] + valor_carteira['km']) < valor_carteira['distancia maxima']) :\n",
    "                    \n",
    "                    valor_carteira['demanda'] += valor_banco['Área Avaliada']\n",
    "                    valor_carteira['km'] += valor_banco['Trajeto (Km)']\n",
    "\n",
    "                    print(f\"demanda adicionada de {valor_banco['Área Avaliada']:.2f} para a equipe {valor_carteira['equipe']}\")\n",
    "                    print(f\"fazenda adicionada é {valor_banco['ID Fazenda']}\")\n",
    "\n",
    "            #Abrir coluna no banco defindo qual fazenda pertence a equipe\n",
    "                    # banco_areas.loc[\n",
    "                    #         (banco_areas['Plano A'] == valor_carteira['equipe']) & \n",
    "                    #         (banco_areas['Mês demanda'] == valor_carteira['mes']),\n",
    "                    #         'equipe atribuída'\n",
    "                    #     ] = valor_carteira['equipe']\n",
    "\n",
    "\n",
    "            #Definir a equipe para o plano B no momento em que a soma da área avaliada mais a demanda é menor que a capacidade máxima da carteira\n",
    "                else: \n",
    "                    print(f\"Fazenda não adicionada, falta capacidade para a equipe {valor_carteira['equipe']}\")\n",
    "                    print(f\"fazenda não adicionada é {valor_banco['ID Fazenda']}\")\n",
    "                #sleep(1)"
   ]
  },
  {
   "cell_type": "code",
   "execution_count": null,
   "metadata": {},
   "outputs": [],
   "source": [
    "otimizacao_rotas"
   ]
  },
  {
   "cell_type": "code",
   "execution_count": null,
   "metadata": {},
   "outputs": [],
   "source": [
    "credito_demanda(carteira_equipe,otimizacao_rotas)"
   ]
  },
  {
   "cell_type": "code",
   "execution_count": null,
   "metadata": {},
   "outputs": [],
   "source": [
    "#Data frame do dicionário e seguindo a orientação por index\n",
    "\n",
    "carteira_df = pd.DataFrame.from_dict(carteira_equipe, orient='index')\n",
    "\n",
    "carteira_df"
   ]
  },
  {
   "cell_type": "code",
   "execution_count": null,
   "metadata": {},
   "outputs": [],
   "source": [
    "#filtro_data = pd.Timestamp('2024-04-01')\n",
    "\n",
    "#distribuicao = otimizacao_rotas[(otimizacao_rotas['Equipe mais próxima'] == 0 ) & (otimizacao_rotas['Mês operacional equipe'] == filtro_data) ].groupby('Equipe')['Área Avaliada'].sum().reset_index()\n"
   ]
  },
  {
   "cell_type": "code",
   "execution_count": null,
   "metadata": {},
   "outputs": [],
   "source": [
    "fig, ax = plt.subplots(figsize=(10, 6))  # Largura de 10 polegadas e altura de 6 polegadas\n",
    "\n",
    "# Dados do gráfico de barras\n",
    "xbar = carteira_df.index\n",
    "ybar = carteira_df['demanda']\n",
    "\n",
    "# Dados do gráfico de linhas\n",
    "xline = carteira_df.index\n",
    "yline = carteira_df['km']\n",
    "\n",
    "# Criar o gráfico de barras\n",
    "bars = ax.bar(xbar, ybar, width=0.8, edgecolor='white')\n",
    "\n",
    "# Adicionar rótulos às barras\n",
    "ax.bar_label(bars, fmt='%d', padding=3)\n",
    "\n",
    "# Criar o gráfico de linhas no mesmo conjunto de eixos\n",
    "ax.plot(xline, yline, color='red', marker='o', linestyle='-', linewidth=2, label='KM')\n",
    "\n",
    "ax.legend()\n",
    "\n",
    "fig.tight_layout()\n",
    "\n",
    "plt.show()\n"
   ]
  }
 ],
 "metadata": {
  "kernelspec": {
   "display_name": "Python 3",
   "language": "python",
   "name": "python3"
  },
  "language_info": {
   "codemirror_mode": {
    "name": "ipython",
    "version": 3
   },
   "file_extension": ".py",
   "mimetype": "text/x-python",
   "name": "python",
   "nbconvert_exporter": "python",
   "pygments_lexer": "ipython3",
   "version": "3.10.13"
  }
 },
 "nbformat": 4,
 "nbformat_minor": 2
}
